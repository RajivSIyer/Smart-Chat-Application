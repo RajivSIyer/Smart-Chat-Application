{
 "cells": [
  {
   "cell_type": "code",
   "execution_count": 4,
   "source": [
    "import pyodbc"
   ],
   "outputs": [],
   "metadata": {}
  },
  {
   "cell_type": "code",
   "execution_count": 5,
   "source": [
    "price_data = [\r\n",
    "    [ 2.00, 3.00, 1.00, 2.40, 100, '2019-2-1'],\r\n",
    "    [ 3.00, 3.00, 5.00, 9.40, 300.00, '2020-1-2'],\r\n",
    "    [ 4.00, 2.00, 1.00, 2.40, 200.00, '2021-1-3']\r\n",
    "]"
   ],
   "outputs": [],
   "metadata": {}
  },
  {
   "cell_type": "code",
   "execution_count": 6,
   "source": [
    "import pyodbc\r\n",
    "for driver in pyodbc.drivers():\r\n",
    "    print(driver)"
   ],
   "outputs": [
    {
     "output_type": "stream",
     "name": "stdout",
     "text": [
      "SQL Server\n",
      "SQL Server Native Client 11.0\n",
      "SQL Server Native Client RDA 11.0\n",
      "ODBC Driver 17 for SQL Server\n"
     ]
    }
   ],
   "metadata": {}
  },
  {
   "cell_type": "code",
   "execution_count": 7,
   "source": [
    "#define server name and database name\r\n",
    "server = 'BALROG'\r\n",
    "database = 'stock_database'\r\n",
    "\r\n",
    "#define our connection string\r\n",
    "connection = pyodbc.connect(DRIVER='{ODBC Driver 17 for SQL Server}',\r\n",
    "    SERVER=server,\r\n",
    "    DATABASE=database,\r\n",
    "    UID=\"sa\",\r\n",
    "    PWD=\"Technobase2021\",\r\n",
    "    Trusted_Connection='no')\r\n",
    "\r\n",
    "#create the connection cursor\r\n",
    "cursor = connection.cursor()\r\n",
    "\r\n",
    "#define our insert query\r\n",
    "insert_query = '''INSERT INTO td_price_data(close_price, high_val, low_val, open_price, volume, day_value)\r\n",
    "VALUES (?,?,?,?,?,?);'''\r\n",
    "\r\n",
    "#Loop through each row in the matrix\r\n",
    "for row in price_data:\r\n",
    "\r\n",
    "    #define the values to insert\r\n",
    "    values = (row[0],row[1],row[2],row[3],row[4],row[5])\r\n",
    "\r\n",
    "    #Zinsert the data into the database\r\n",
    "    cursor.execute(insert_query, values)\r\n",
    "\r\n",
    "#commit the inserts\r\n",
    "connection.commit()\r\n",
    "\r\n",
    "#grab all the rows in our database table\r\n",
    "cursor.execute('SELECT * FROM td_price_data')\r\n",
    "\r\n",
    "#loop through the results\r\n",
    "for row in cursor:\r\n",
    "    print(row)\r\n",
    "    print(type(row[0]))\r\n",
    "\r\n",
    "#Close the connection and remove the server\r\n",
    "cursor.close()\r\n",
    "connection.close() "
   ],
   "outputs": [
    {
     "output_type": "stream",
     "name": "stdout",
     "text": [
      "(2.0, 3.0, 1.0, 2.4, 100.0, datetime.date(2019, 2, 1))\n",
      "<class 'float'>\n",
      "(3.0, 3.0, 5.0, 9.4, 300.0, datetime.date(2020, 1, 2))\n",
      "<class 'float'>\n",
      "(4.0, 2.0, 1.0, 2.4, 200.0, datetime.date(2021, 1, 3))\n",
      "<class 'float'>\n",
      "(2.0, 3.0, 1.0, 2.4, 100.0, datetime.date(2019, 2, 1))\n",
      "<class 'float'>\n",
      "(3.0, 3.0, 5.0, 9.4, 300.0, datetime.date(2020, 1, 2))\n",
      "<class 'float'>\n",
      "(4.0, 2.0, 1.0, 2.4, 200.0, datetime.date(2021, 1, 3))\n",
      "<class 'float'>\n",
      "(2.0, 3.0, 1.0, 2.4, 100.0, datetime.date(2019, 2, 1))\n",
      "<class 'float'>\n",
      "(3.0, 3.0, 5.0, 9.4, 300.0, datetime.date(2020, 1, 2))\n",
      "<class 'float'>\n",
      "(4.0, 2.0, 1.0, 2.4, 200.0, datetime.date(2021, 1, 3))\n",
      "<class 'float'>\n"
     ]
    }
   ],
   "metadata": {}
  },
  {
   "cell_type": "code",
   "execution_count": null,
   "source": [],
   "outputs": [],
   "metadata": {}
  }
 ],
 "metadata": {
  "orig_nbformat": 4,
  "language_info": {
   "name": "python",
   "version": "3.9.7",
   "mimetype": "text/x-python",
   "codemirror_mode": {
    "name": "ipython",
    "version": 3
   },
   "pygments_lexer": "ipython3",
   "nbconvert_exporter": "python",
   "file_extension": ".py"
  },
  "kernelspec": {
   "name": "python3",
   "display_name": "Python 3.9.7 64-bit ('base': conda)"
  },
  "interpreter": {
   "hash": "0a095d83b38b1cbff28a900c649693c24fc943aa03b76e959894ca539d7cfd52"
  }
 },
 "nbformat": 4,
 "nbformat_minor": 2
}